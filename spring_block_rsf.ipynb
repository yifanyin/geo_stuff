{
 "cells": [
  {
   "cell_type": "markdown",
   "id": "running-electric",
   "metadata": {},
   "source": [
    "# A spring-block system with rate and state friction\n",
    "\n",
    "\n",
    "First we make an object containing the physical properties of the block."
   ]
  },
  {
   "cell_type": "code",
   "execution_count": 1,
   "id": "unusual-attitude",
   "metadata": {},
   "outputs": [],
   "source": [
    "from scipy.integrate import solve_ivp\n",
    "import numpy as np\n",
    "import matplotlib.pyplot as plt\n",
    "import matplotlib as mpl\n",
    "mpl.rcParams['text.usetex'] = True\n",
    "\n",
    "class pb:\n",
    "    def __init__(self):\n",
    "        # Rate and state variables\n",
    "        self.a = 0.01\n",
    "        self.b = 0.011\n",
    "        self.Dc = 1e-5\n",
    "        self.RSF = 'c'\n",
    "\n",
    "        # reference values\n",
    "        self.v_star = 1e-5\n",
    "        self.theta_star = self.Dc / self.v_star\n",
    "        self.mu_star = 0.6\n",
    "\n",
    "        # Forces\n",
    "        self.P = 0.        # Pore pressure\n",
    "        self.coh = 0.      # Cohesion\n",
    "        self.L = 1e-4      # spring stiffness\n",
    "        self.sigma = 5e6   # normal stress\n",
    "        self.Vs = 3000     # shear-wave velocity\n",
    "        self.smod = 2e9    # shear modulus\n",
    "        self.imped = 0.5 * self.smod / self.Vs   # seismic radiation impedance\n",
    "        \n",
    "        # Initialization\n",
    "        self.v = self.v_star\n",
    "        self.theta = self.theta_star\n",
    "        if self.RSF == 'c':\n",
    "            self.tau = get_tau_c(self.v, self.theta, self)\n",
    "            self.mu = get_mu_c(self.v, self.theta, self)\n",
    "        elif self.RSF == 'r':\n",
    "            self.tau = get_tau_r(self.v, self.theta, self)\n",
    "            self.mu = get_mu_r(self.v, self.theta, self)\n",
    "\n",
    "    def update(self):\n",
    "        \"\"\"Give initial values and update the object\"\"\"\n",
    "        if self.RSF == 'c':\n",
    "            self.tau = get_tau_c(self.v, self.theta, self)\n",
    "            self.mu = get_mu_c(self.v, self.theta, self)\n",
    "        elif self.RSF == 'r':\n",
    "            self.tau = get_tau_r(self.v, self.theta, self)\n",
    "            self.mu = get_mu_r(self.v, self.theta, self)"
   ]
  },
  {
   "cell_type": "markdown",
   "id": "enhanced-interest",
   "metadata": {},
   "source": [
    "# ODEs of the state $\\theta$ and rate $v$ evolution\n",
    "\n",
    "The classical form of rate and state friction from [Rubin and Ampuero, 2005](http://doi.wiley.com/10.1029/2005JB003686):\n",
    "$$\\mu(V, \\theta) = \\mu^* + a\\ln(\\frac{V}{V^*}) + b\\ln(\\frac{\\theta V^*}{D_c}) \\tag{1}$$\n",
    "\n",
    "There are two laws describing the evolution of state variable $\\theta$. Here we use the aging law\n",
    "$$\\frac{d\\theta}{dt} = 1 - \\frac{\\theta V}{D_c} \\tag{2}$$\n",
    "\n",
    "The change in velocity can be written as:\n",
    "$$\\frac{dv}{dt} = \\frac{\\frac{d\\tau}{dt} - \\sigma\\frac{d\\mu}{d\\theta}\\frac{d\\theta}{dt}}{\\sigma\\frac{d\\mu}{dv}-Impedence} \\tag{3}$$\n",
    "\n",
    "The impedance, or seismic radiation damping approximate the inertia of the crust ([Rice, 1993](http://doi.wiley.com/10.1029/93JB00191)) to make this simulation quasi-dynamic.\n",
    "\n",
    "We integrate the two ODEs (1) and (2). And the friction coefficient $\\mu$ is updated using the updated $\\theta$ and $v$."
   ]
  },
  {
   "cell_type": "code",
   "execution_count": 2,
   "id": "hollow-combine",
   "metadata": {},
   "outputs": [],
   "source": [
    "#------------ Classic form ---------------------\n",
    "def dtheta_dt(z, Dc):\n",
    "    \"\"\"We use the aging law as the state evolution\"\"\"\n",
    "    theta, v = z\n",
    "    return 1 - v * theta / Dc\n",
    "\n",
    "\n",
    "def get_mu_c(theta, v, pb):\n",
    "    \"\"\"Classical R&S friction\"\"\"\n",
    "    return pb.mu_star - pb.a*np.log(pb.v_star/ v ) + pb.b * np.log(theta/pb.theta_star)\n",
    "\n",
    "\n",
    "def dmu_dv_dtheta_c(theta, v, pb):\n",
    "    \"\"\"Calculate dmu/dtheta and dmu/dv\"\"\"\n",
    "    dmu_dtheta = pb.b / theta\n",
    "    dmu_dv = pb.a / v\n",
    "    return dmu_dv, dmu_dtheta\n",
    "\n",
    "\n",
    "def dv_dt_c(t, z, pb):\n",
    "    \"\"\"Calculate dv/dt\"\"\"\n",
    "    theta, v = z\n",
    "    dthdt = dtheta_dt(z, pb.Dc)\n",
    "    pb.mu = get_mu_c(theta, v, pb)\n",
    "    pb.tau = get_tau_c(theta, v, pb)\n",
    "    dtau_dt = get_dtau_dt(pb.mu, v-pb.v_star, pb.L)\n",
    "    dmu_dv, dmu_dtheta = dmu_dv_dtheta_c(theta, v, pb)\n",
    "    dvdt = (dtau_dt - pb.sigma*dmu_dtheta + pb.sigma*dmu_dtheta*v*theta/pb.Dc)/(pb.sigma*dmu_dv + pb.imped)\n",
    "    return [dthdt, dvdt]\n",
    "\n",
    "\n",
    "def get_jac(t, z, pb):\n",
    "    \"\"\"Calculate the Jacobian matrix of the two ODEs. Only feasable for the classical form.\"\"\"\n",
    "    theta, v = z\n",
    "    dtau_dt = get_dtau_dt(pb.mu, v-pb.v_star, pb.L)\n",
    "    df1dy1 = -v / pb.Dc\n",
    "    df1dy2 = -theta / pb.Dc\n",
    "    df2dy1 = pb.b*pb.sigma*pb.v / ((pb.a*pb.sigma + pb.imped*v)*theta**2)\n",
    "    df2dy2 = pb.sigma*(pb.a*(-pb.Dc*pb.b*pb.sigma + pb.Dc*dtau_dt*theta + pb.b*pb.sigma*theta*v)+ pb.b*theta*v*(pb.imped*v + pb.a*pb.sigma))/(pb.Dc*theta*(pb.imped*v + pb.a*pb.sigma)**2)\n",
    "    return np.array([[df1dy1, df1dy2], [df2dy1, df2dy2]])"
   ]
  },
  {
   "cell_type": "markdown",
   "id": "awful-replacement",
   "metadata": {},
   "source": [
    "A weakness in the classical form is that when velocity approach zero, stress can become negative. [Lapusta et al., 2000](http://doi.wiley.com/10.1029/2000JB900250) use the regularized form that is stable when velocity approach zero:\n",
    "$$\\tau = a\\bar\\sigma\\sinh^{-1}[\\frac{V}{2V_0}\\exp(\\frac{f_0+b\\ln(\\frac{V_0\\theta}{L})}{a})] \\tag{4}$$\n",
    "\n",
    "Here you can choose the regularized form by setting `pb.RSF = 'r'`"
   ]
  },
  {
   "cell_type": "code",
   "execution_count": 3,
   "id": "checked-balloon",
   "metadata": {},
   "outputs": [],
   "source": [
    "#-------- Regularized form --------------------\n",
    "def get_mu_r(theta, v, pb):\n",
    "    \"\"\"Regularize form of R&S friction\"\"\"\n",
    "    return pb.a * np.arcsinh(v/(2 * pb.v_star) \\\n",
    "           * np.exp((pb.mu_star + pb.b * np.log(theta/pb.theta_star))/pb.a))\n",
    "\n",
    "\n",
    "def dmu_dv_dtheta_r(theta, v, pb):\n",
    "    z = np.exp((pb.mu_star + pb.b * np.log(theta/pb.theta_star)) / pb.a) / (2*pb.v_star)\n",
    "    dmu_dv = pb.a / np.sqrt(1./z**2 + v**2)\n",
    "    dmu_dtheta = dmu_dv * (pb.b*v) / (pb.a*theta)\n",
    "    return dmu_dv, dmu_dtheta\n",
    "\n",
    "\n",
    "def dv_dt_r(t, z, pb):\n",
    "    theta, v = z\n",
    "    dthdt = dtheta_dt(z, pb.Dc)\n",
    "    pb.mu = get_mu_r(theta, v, pb)\n",
    "    pb.tau = get_tau_r(theta, v, pb)\n",
    "    dtau_dt = get_dtau_dt(pb.mu, v-pb.v_star, pb.L)\n",
    "    dmu_dv, dmu_dtheta = dmu_dv_dtheta_r(theta, v, pb)\n",
    "    dvdt = (dtau_dt - pb.sigma*dmu_dtheta + pb.sigma*dmu_dtheta*v*theta/pb.Dc)/(pb.sigma * dmu_dv + pb.imped)\n",
    "    # print(pb.tau, pb.mu)\n",
    "    return [dthdt, dvdt]"
   ]
  },
  {
   "cell_type": "markdown",
   "id": "blind-ministry",
   "metadata": {},
   "source": [
    "Finally we calculate shear stress and its derivative\n",
    "$$\\tau = (\\sigma - P)*\\mu + cohesion \\tag{5}$$\n",
    "$$\\frac{d\\tau}{dt} = -\\frac{\\mu v}{L} \\tag{6}$$"
   ]
  },
  {
   "cell_type": "code",
   "execution_count": 4,
   "id": "august-grass",
   "metadata": {},
   "outputs": [],
   "source": [
    "def get_tau_c(theta, v, pb):\n",
    "    return (pb.sigma - pb.P) * get_mu_c(theta, v, pb) + pb.coh\n",
    "\n",
    "def get_tau_r(theta, v, pb):\n",
    "    return (pb.sigma - pb.P) * get_mu_r(theta, v, pb) + pb.coh\n",
    "\n",
    "# Stress\n",
    "def get_dtau_dt(mu, v, L):\n",
    "    \"\"\"1D spring-block\n",
    "    v = v - v_star (usually v_star == v_pl)\"\"\"\n",
    "    return -mu * v / L"
   ]
  },
  {
   "cell_type": "markdown",
   "id": "hungry-mexico",
   "metadata": {},
   "source": [
    "Prepare the plotting function"
   ]
  },
  {
   "cell_type": "code",
   "execution_count": 5,
   "id": "female-place",
   "metadata": {},
   "outputs": [],
   "source": [
    "def plot_sol(sol, jump=20):\n",
    "    fig = plt.figure(figsize=[16, 5])\n",
    "    tp = fig.add_subplot(131)\n",
    "    tp.scatter(sol.t[::20], sol.y[0,::jump], s=0.5)\n",
    "    tp.set_yscale('log')\n",
    "    tp.set_xlabel('Time')\n",
    "    tp.set_ylabel(r'$\\theta$')\n",
    "    tp.set_title('State')\n",
    "    vp = fig.add_subplot(132)\n",
    "    vp.scatter(sol.t[::jump], sol.y[1,::jump], s=0.5)\n",
    "    vp.set_yscale('log')\n",
    "    vp.set_xlabel('Time')\n",
    "    vp.set_ylabel('Velocity (m/s)')\n",
    "    vp.set_title('Rate')\n",
    "    pd = fig.add_subplot(133)\n",
    "    pd.scatter(sol.y[0, ::jump], sol.y[1, ::jump], s=0.5)\n",
    "    pd.set_xscale('log')\n",
    "    pd.set_xlabel(r'$\\theta$')\n",
    "    pd.set_yscale('log')\n",
    "    pd.set_ylabel('v')\n",
    "    plt.show()\n",
    "    print('Number of time steps: ', len(sol.t))"
   ]
  },
  {
   "cell_type": "markdown",
   "id": "divine-failing",
   "metadata": {},
   "source": [
    "# Solve ODEs!\n",
    "Here we use the solve_ivp (initial-value problem) in scipy.integrate to see which ODE solver is more powerful.\n",
    "\n",
    "## We first use the classical explicit solver Runge-Kutta of order 5."
   ]
  },
  {
   "cell_type": "code",
   "execution_count": 7,
   "id": "efficient-brave",
   "metadata": {},
   "outputs": [
    {
     "name": "stdout",
     "output_type": "stream",
     "text": [
      "CPU times: user 7min 48s, sys: 12.2 s, total: 8min\n",
      "Wall time: 10min 38s\n"
     ]
    },
    {
     "data": {
      "image/png": "[encoded data removed]",
      "text/plain": [
       "<Figure size 1152x360 with 3 Axes>"
      ]
     },
     "metadata": {
      "needs_background": "light"
     },
     "output_type": "display_data"
    },
    {
     "name": "stdout",
     "output_type": "stream",
     "text": [
      "Number of time steps:  1530007\n"
     ]
    }
   ],
   "source": [
    "# Initialize the problem\n",
    "p = pb()\n",
    "p.RSF = 'c'\n",
    "p.v = 2e-5    # pluck the block\n",
    "p.update()\n",
    "\n",
    "%time sol = solve_ivp(fun=dv_dt_c, t_span=(0, 1e7), y0=[p.theta, p.v], method='RK45', args=[p], atol=0., rtol=1e-5, dense_output=True)\n",
    "plot_sol(sol, jump=20)"
   ]
  },
  {
   "cell_type": "markdown",
   "id": "reduced-rough",
   "metadata": {},
   "source": [
    "So it takes several minutes to calculate a spring block evolving for 1e7 seconds or 115 days\n",
    "\n",
    "Why does it take so long to solve? The rate and state ODEs are constantly on very different scales. When velocity is very small most of the time, the solver is forced to take very small steps. These kind of equations are known as \"stiff.\" We can swap the classical solver with implicit solver to improve the efficiency.\n",
    "\n",
    "## An implicit solver \"BDF\", or backward differentiation formula\n",
    "We also provide the Jacobian matrix needed for implicit solvers."
   ]
  },
  {
   "cell_type": "code",
   "execution_count": 18,
   "id": "alternative-auction",
   "metadata": {},
   "outputs": [
    {
     "name": "stdout",
     "output_type": "stream",
     "text": [
      "CPU times: user 20.3 s, sys: 1.74 s, total: 22.1 s\n",
      "Wall time: 25.1 s\n"
     ]
    },
    {
     "data": {
      "image/png": "[encoded data removed]",
      "text/plain": [
       "<Figure size 1152x360 with 3 Axes>"
      ]
     },
     "metadata": {
      "needs_background": "light"
     },
     "output_type": "display_data"
    },
    {
     "name": "stdout",
     "output_type": "stream",
     "text": [
      "Number of time steps:  29112\n"
     ]
    }
   ],
   "source": [
    "p = pb()\n",
    "p.RSF = 'c'\n",
    "p.v = 2e-5    # pluck the block\n",
    "p.update()\n",
    "\n",
    "%time sol = solve_ivp(fun=dv_dt_c, t_span=(0, 1e7), y0=[p.theta, p.v], method='BDF', args=[p], atol=1e-6, rtol=1e-7, jac=get_jac, dense_output=True)\n",
    "plot_sol(sol, jump=20)"
   ]
  },
  {
   "cell_type": "markdown",
   "id": "divided-buddy",
   "metadata": {},
   "source": [
    "So it takes about 2 minutes to calculate a spring block evolving for 1e7 seconds or 115 days using the same atol and rtol."
   ]
  },
  {
   "cell_type": "markdown",
   "id": "recent-richmond",
   "metadata": {},
   "source": [
    "## Use the LSODA solver developed by the LLNL\n",
    "LSODA uses Adams/BDF method with automatic stiffness detection and switching."
   ]
  },
  {
   "cell_type": "code",
   "execution_count": 19,
   "id": "colored-sensitivity",
   "metadata": {},
   "outputs": [
    {
     "name": "stdout",
     "output_type": "stream",
     "text": [
      "CPU times: user 947 ms, sys: 31.8 ms, total: 979 ms\n",
      "Wall time: 1.06 s\n"
     ]
    },
    {
     "data": {
      "image/png": "[encoded data removed]",
      "text/plain": [
       "<Figure size 1152x360 with 3 Axes>"
      ]
     },
     "metadata": {
      "needs_background": "light"
     },
     "output_type": "display_data"
    },
    {
     "name": "stdout",
     "output_type": "stream",
     "text": [
      "Number of time steps:  8609\n"
     ]
    }
   ],
   "source": [
    "p = pb()\n",
    "p.RSF = 'c'\n",
    "p.v = 2e-5    # pluck the block\n",
    "p.update()\n",
    "\n",
    "%time sol = solve_ivp(fun=dv_dt_c, t_span=(0, 1e7), y0=np.array([p.theta, p.v]), method='LSODA', args=[p], atol=0., rtol=1e-5, jac=get_jac, dense_output=True)\n",
    "plot_sol(sol, jump=20)"
   ]
  },
  {
   "cell_type": "markdown",
   "id": "naked-lincoln",
   "metadata": {},
   "source": [
    "# Conclusion\n",
    "**LSODA** is so fast its scary!!"
   ]
  }
 ],
 "metadata": {
  "kernelspec": {
   "display_name": "newnew",
   "language": "python",
   "name": "newnew"
  },
  "language_info": {
   "codemirror_mode": {
    "name": "ipython",
    "version": 3
   },
   "file_extension": ".py",
   "mimetype": "text/x-python",
   "name": "python",
   "nbconvert_exporter": "python",
   "pygments_lexer": "ipython3",
   "version": "3.8.6"
  }
 },
 "nbformat": 4,
 "nbformat_minor": 5
}
